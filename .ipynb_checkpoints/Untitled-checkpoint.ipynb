{
 "cells": [
  {
   "cell_type": "markdown",
   "id": "40f72ff1-e601-4373-822b-3d6ce146444a",
   "metadata": {},
   "source": [
    "## Entradas Basicas de dados como o token do telegram e o nome da planilha do google sheet"
   ]
  },
  {
   "cell_type": "markdown",
   "id": "4e388ae5-a672-4a84-b5fe-007117eb88ea",
   "metadata": {},
   "source": [
    "TOKEN_TELEGRAM = input('Digite o token do telegram:')\n",
    "NOME_PLANILHA = input('Digite o nome da planilha onde os dados será salvo:')"
   ]
  },
  {
   "cell_type": "markdown",
   "id": "1737139f-31d6-42c6-bccb-72ab8fe73584",
   "metadata": {},
   "source": [
    "## Authenticação com o google"
   ]
  },
  {
   "cell_type": "code",
   "execution_count": null,
   "id": "80e54543-de61-421a-a0f4-0ffbddf20aed",
   "metadata": {},
   "outputs": [],
   "source": [
    "from google.colab import auth\n",
    "auth.authenticate_user()\n",
    "\n",
    "import gspread\n",
    "from google.auth import default\n",
    "creds, _ = default()\n",
    "\n",
    "gc = gspread.authorize(creds)"
   ]
  },
  {
   "cell_type": "markdown",
   "id": "f415cad6-0cb0-4e27-9c26-5abd7158a170",
   "metadata": {},
   "source": [
    "## Importações de pacotes basicos"
   ]
  },
  {
   "cell_type": "code",
   "execution_count": null,
   "id": "65d4fabb-4372-4da3-b24d-4e0a772b5a75",
   "metadata": {},
   "outputs": [],
   "source": [
    "import telebot\n",
    "import pandas as pd\n",
    "from datetime import datetime"
   ]
  },
  {
   "cell_type": "markdown",
   "id": "15b7810b-b05b-4091-a86c-88ce7b9a6929",
   "metadata": {},
   "source": [
    "## Logica do codigo para interação com telegram"
   ]
  },
  {
   "cell_type": "code",
   "execution_count": null,
   "id": "749a9fa2-e1a0-4e1b-a745-bf3446df2b4a",
   "metadata": {},
   "outputs": [],
   "source": [
    "spreedsheets = gc.open(NOME_PLANILHA)\n",
    "mensagem_target2 = 'Resultado'\n",
    "\n",
    "page = spreedsheets.sheet1\n",
    "\n",
    "df = pd.DataFrame(page.get_all_values())"
   ]
  },
  {
   "cell_type": "code",
   "execution_count": null,
   "id": "25ecbb03-44d6-4116-96f3-32063e07e6fd",
   "metadata": {},
   "outputs": [],
   "source": [
    "def salvarMensagem(text):\n",
    "  date_now = datetime.today().strftime('%d-%m-%Y')\n",
    "\n",
    "  if 'Green' in text or 'Red' in text:\n",
    "    data = text.split('\\n')\n",
    "\n",
    "    if \"tipmanager.com.br\" in data:\n",
    "      data.remove(\"tipmanager.com.br\")\n",
    "\n",
    "    if \"🤖Bot criado por \" in data:\n",
    "      data.remove(\"🤖Bot criado por \")\n",
    "      #data.remove(\"conosco e crie seus próprios bots!\")\n",
    "\n",
    "    newdata = [data[0], data[2], data[3], data[5], data[7], data[13], data[17], data[18]]\n",
    "\n",
    "    horas_inicio = newdata[3].replace('🕒 Início: ', '')\n",
    "\n",
    "    infor = newdata[0].split(' ')\n",
    "\n",
    "    liga = f'{infor[0]} {infor[1]}'\n",
    "    linha = infor[2]\n",
    "    odd = infor[3].replace('@', '')\n",
    "    confronto = newdata[1].replace('⚽   ', '') + ' ' + newdata[2]\n",
    "    data_hora = f'{date_now} {horas_inicio}'\n",
    "    estrategia = newdata[5].replace('❗ Estratégia: ', '')\n",
    "    resultado = newdata[6].replace('Resultado: ', '')\n",
    "    status = newdata[7].replace('✅ ', '').replace('❌ ', '')\n",
    "\n",
    "    lucro = 0\n",
    "\n",
    "    if status == 'Green':\n",
    "      lucro = float(odd) - 1\n",
    "    elif status == 'Red':\n",
    "      lucro = -1\n",
    "    elif status == 'Anulada':\n",
    "      lucro = 0\n",
    "    elif status == 'Meio Green':\n",
    "      lucro = (float(odd) - 1)/2\n",
    "    elif status == 'Meio Red':\n",
    "      lucro = -0.5\n",
    "    else:\n",
    "      lucro = 0\n",
    "\n",
    "    dicionario = [liga, confronto, data_hora, linha, odd,estrategia, resultado, lucro, status]\n",
    "\n",
    "    page.append_rows([dicionario])\n",
    "\n",
    "    return \"Salvo com sucesso.\""
   ]
  },
  {
   "cell_type": "code",
   "execution_count": null,
   "id": "db76db63-a93e-445e-9dda-099651b862da",
   "metadata": {},
   "outputs": [],
   "source": [
    "bot = telebot.TeleBot(TOKEN_TELEGRAM)\n",
    "\n",
    "try:\n",
    "  @bot.edited_message_handler()\n",
    "  def mensagemUpdade(message) -> None:\n",
    "    if mensagem_target2 in message.text:\n",
    "        save = salvarMensagem(message.text)\n",
    "        bot.reply_to(message, str(save))\n",
    "\n",
    "  @bot.message_handler()\n",
    "  def mensagem(message) -> None:\n",
    "    if mensagem_target2 in message.text:\n",
    "        save = salvarMensagem(message.text)\n",
    "        bot.reply_to(message, str(save))\n",
    "\n",
    "except Exception as ex:\n",
    "  print(ex)\n",
    "\n",
    "bot.polling()"
   ]
  }
 ],
 "metadata": {
  "kernelspec": {
   "display_name": "Python 3 (ipykernel)",
   "language": "python",
   "name": "python3"
  },
  "language_info": {
   "codemirror_mode": {
    "name": "ipython",
    "version": 3
   },
   "file_extension": ".py",
   "mimetype": "text/x-python",
   "name": "python",
   "nbconvert_exporter": "python",
   "pygments_lexer": "ipython3",
   "version": "3.12.1"
  }
 },
 "nbformat": 4,
 "nbformat_minor": 5
}
